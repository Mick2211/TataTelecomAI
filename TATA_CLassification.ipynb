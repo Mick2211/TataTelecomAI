{
  "nbformat": 4,
  "nbformat_minor": 0,
  "metadata": {
    "colab": {
      "name": "TATA_CLassification.ipynb",
      "version": "0.3.2",
      "provenance": [],
      "include_colab_link": true
    },
    "kernelspec": {
      "name": "python2",
      "display_name": "Python 2"
    }
  },
  "cells": [
    {
      "cell_type": "markdown",
      "metadata": {
        "id": "view-in-github",
        "colab_type": "text"
      },
      "source": [
        "<a href=\"https://colab.research.google.com/github/equester/TataTelecomAI/blob/master/TATA_CLassification.ipynb\" target=\"_parent\"><img src=\"https://colab.research.google.com/assets/colab-badge.svg\" alt=\"Open In Colab\"/></a>"
      ]
    },
    {
      "metadata": {
        "id": "0_X58HMWnNUr",
        "colab_type": "code",
        "colab": {}
      },
      "cell_type": "code",
      "source": [
        "import numpy as np                                                 # Implemennts milti-dimensional array and matrices\n",
        "import pandas as pd                                                # For data manipulation and analysis\n",
        "import pandas_profiling\n",
        "import matplotlib.pyplot as plt                                    # Plotting library for Python programming language and it's numerical mathematics extension NumPy\n",
        "import seaborn as sns                                              # Provides a high level interface for drawing attractive and informative statistical graphics\n",
        "%matplotlib inline\n",
        "sns.set()\n",
        "\n",
        "from subprocess import check_output"
      ],
      "execution_count": 0,
      "outputs": []
    },
    {
      "metadata": {
        "id": "NFjv9PeRnYYU",
        "colab_type": "code",
        "colab": {}
      },
      "cell_type": "code",
      "source": [
        "data = pd.read_csv(\"https://raw.githubusercontent.com/equester/TataTelecomAI/master/Sample%20Data/data_P.csv\")"
      ],
      "execution_count": 0,
      "outputs": []
    },
    {
      "metadata": {
        "id": "74sBwC4KnklN",
        "colab_type": "code",
        "colab": {
          "base_uri": "https://localhost:8080/",
          "height": 308
        },
        "outputId": "4065e99b-4062-4597-e444-483f8270b509"
      },
      "cell_type": "code",
      "source": [
        "data.tail(5)"
      ],
      "execution_count": 17,
      "outputs": [
        {
          "output_type": "execute_result",
          "data": {
            "text/html": [
              "<div>\n",
              "<style scoped>\n",
              "    .dataframe tbody tr th:only-of-type {\n",
              "        vertical-align: middle;\n",
              "    }\n",
              "\n",
              "    .dataframe tbody tr th {\n",
              "        vertical-align: top;\n",
              "    }\n",
              "\n",
              "    .dataframe thead th {\n",
              "        text-align: right;\n",
              "    }\n",
              "</style>\n",
              "<table border=\"1\" class=\"dataframe\">\n",
              "  <thead>\n",
              "    <tr style=\"text-align: right;\">\n",
              "      <th></th>\n",
              "      <th>Incoming Attempts</th>\n",
              "      <th>Normal Term Seizures</th>\n",
              "      <th>Answered Calls</th>\n",
              "      <th>Normal Not Answer Calls</th>\n",
              "      <th>Outgoing Seizures</th>\n",
              "      <th>FEV Seizures</th>\n",
              "      <th>Network Conversation Minutes</th>\n",
              "      <th>NER</th>\n",
              "      <th>ACD</th>\n",
              "      <th>New Pricing Service</th>\n",
              "    </tr>\n",
              "  </thead>\n",
              "  <tbody>\n",
              "    <tr>\n",
              "      <th>545</th>\n",
              "      <td>1203</td>\n",
              "      <td>348</td>\n",
              "      <td>100</td>\n",
              "      <td>248</td>\n",
              "      <td>360</td>\n",
              "      <td>1</td>\n",
              "      <td>222.316667</td>\n",
              "      <td>96.935933</td>\n",
              "      <td>2.223167</td>\n",
              "      <td>Corporate</td>\n",
              "    </tr>\n",
              "    <tr>\n",
              "      <th>546</th>\n",
              "      <td>11272</td>\n",
              "      <td>8553</td>\n",
              "      <td>235</td>\n",
              "      <td>8318</td>\n",
              "      <td>8576</td>\n",
              "      <td>22</td>\n",
              "      <td>661.883333</td>\n",
              "      <td>99.988310</td>\n",
              "      <td>2.816525</td>\n",
              "      <td>Call Center</td>\n",
              "    </tr>\n",
              "    <tr>\n",
              "      <th>547</th>\n",
              "      <td>53099</td>\n",
              "      <td>44837</td>\n",
              "      <td>13750</td>\n",
              "      <td>31087</td>\n",
              "      <td>48122</td>\n",
              "      <td>1965</td>\n",
              "      <td>37163.766670</td>\n",
              "      <td>97.140195</td>\n",
              "      <td>2.702819</td>\n",
              "      <td>Corporate</td>\n",
              "    </tr>\n",
              "    <tr>\n",
              "      <th>548</th>\n",
              "      <td>1325</td>\n",
              "      <td>1112</td>\n",
              "      <td>30</td>\n",
              "      <td>1082</td>\n",
              "      <td>1153</td>\n",
              "      <td>37</td>\n",
              "      <td>96.050000</td>\n",
              "      <td>99.641577</td>\n",
              "      <td>3.201667</td>\n",
              "      <td>Call Center</td>\n",
              "    </tr>\n",
              "    <tr>\n",
              "      <th>549</th>\n",
              "      <td>48929</td>\n",
              "      <td>47024</td>\n",
              "      <td>25699</td>\n",
              "      <td>21325</td>\n",
              "      <td>47652</td>\n",
              "      <td>533</td>\n",
              "      <td>83347.633330</td>\n",
              "      <td>99.798383</td>\n",
              "      <td>3.243225</td>\n",
              "      <td>Corporate</td>\n",
              "    </tr>\n",
              "  </tbody>\n",
              "</table>\n",
              "</div>"
            ],
            "text/plain": [
              "     Incoming Attempts  Normal Term Seizures  Answered Calls  \\\n",
              "545               1203                   348             100   \n",
              "546              11272                  8553             235   \n",
              "547              53099                 44837           13750   \n",
              "548               1325                  1112              30   \n",
              "549              48929                 47024           25699   \n",
              "\n",
              "     Normal Not Answer Calls  Outgoing Seizures  FEV Seizures  \\\n",
              "545                      248                360             1   \n",
              "546                     8318               8576            22   \n",
              "547                    31087              48122          1965   \n",
              "548                     1082               1153            37   \n",
              "549                    21325              47652           533   \n",
              "\n",
              "     Network Conversation Minutes        NER       ACD New Pricing Service  \n",
              "545                    222.316667  96.935933  2.223167           Corporate  \n",
              "546                    661.883333  99.988310  2.816525         Call Center  \n",
              "547                  37163.766670  97.140195  2.702819           Corporate  \n",
              "548                     96.050000  99.641577  3.201667         Call Center  \n",
              "549                  83347.633330  99.798383  3.243225           Corporate  "
            ]
          },
          "metadata": {
            "tags": []
          },
          "execution_count": 17
        }
      ]
    },
    {
      "metadata": {
        "id": "qU_PyYD-o9-h",
        "colab_type": "code",
        "colab": {}
      },
      "cell_type": "code",
      "source": [
        "feature_cols = ['Incoming Attempts',\t'Normal Term Seizures'\t,'Answered Calls','Normal Not Answer Calls',\t'Outgoing Seizures',\t'FEV Seizures',\t'Network Conversation Minutes',\t'NER', 'ACD']                # create a Python list of feature names\n",
        "X = data[feature_cols] "
      ],
      "execution_count": 0,
      "outputs": []
    },
    {
      "metadata": {
        "id": "fQlv6aMVqvx-",
        "colab_type": "code",
        "colab": {
          "base_uri": "https://localhost:8080/",
          "height": 51
        },
        "outputId": "25088170-2699-42ec-ebeb-014303806281"
      },
      "cell_type": "code",
      "source": [
        "print(type(X))\n",
        "print(X.shape)"
      ],
      "execution_count": 19,
      "outputs": [
        {
          "output_type": "stream",
          "text": [
            "<class 'pandas.core.frame.DataFrame'>\n",
            "(550, 9)\n"
          ],
          "name": "stdout"
        }
      ]
    },
    {
      "metadata": {
        "id": "Hx9I_7lBrC3V",
        "colab_type": "code",
        "colab": {
          "base_uri": "https://localhost:8080/",
          "height": 215
        },
        "outputId": "deec7b04-166c-4b2b-9b40-9fd7fda06917"
      },
      "cell_type": "code",
      "source": [
        "X = data.loc[:,data.columns != 'New Pricing Service']\n",
        "X.head()"
      ],
      "execution_count": 20,
      "outputs": [
        {
          "output_type": "execute_result",
          "data": {
            "text/html": [
              "<div>\n",
              "<style scoped>\n",
              "    .dataframe tbody tr th:only-of-type {\n",
              "        vertical-align: middle;\n",
              "    }\n",
              "\n",
              "    .dataframe tbody tr th {\n",
              "        vertical-align: top;\n",
              "    }\n",
              "\n",
              "    .dataframe thead th {\n",
              "        text-align: right;\n",
              "    }\n",
              "</style>\n",
              "<table border=\"1\" class=\"dataframe\">\n",
              "  <thead>\n",
              "    <tr style=\"text-align: right;\">\n",
              "      <th></th>\n",
              "      <th>Incoming Attempts</th>\n",
              "      <th>Normal Term Seizures</th>\n",
              "      <th>Answered Calls</th>\n",
              "      <th>Normal Not Answer Calls</th>\n",
              "      <th>Outgoing Seizures</th>\n",
              "      <th>FEV Seizures</th>\n",
              "      <th>Network Conversation Minutes</th>\n",
              "      <th>NER</th>\n",
              "      <th>ACD</th>\n",
              "    </tr>\n",
              "  </thead>\n",
              "  <tbody>\n",
              "    <tr>\n",
              "      <th>0</th>\n",
              "      <td>41</td>\n",
              "      <td>41</td>\n",
              "      <td>40</td>\n",
              "      <td>1</td>\n",
              "      <td>41</td>\n",
              "      <td>0</td>\n",
              "      <td>14.533333</td>\n",
              "      <td>100.000000</td>\n",
              "      <td>0.363333</td>\n",
              "    </tr>\n",
              "    <tr>\n",
              "      <th>1</th>\n",
              "      <td>239</td>\n",
              "      <td>49</td>\n",
              "      <td>11</td>\n",
              "      <td>38</td>\n",
              "      <td>71</td>\n",
              "      <td>14</td>\n",
              "      <td>36.666667</td>\n",
              "      <td>85.964912</td>\n",
              "      <td>3.333333</td>\n",
              "    </tr>\n",
              "    <tr>\n",
              "      <th>2</th>\n",
              "      <td>8019</td>\n",
              "      <td>459</td>\n",
              "      <td>188</td>\n",
              "      <td>271</td>\n",
              "      <td>643</td>\n",
              "      <td>103</td>\n",
              "      <td>1435.066667</td>\n",
              "      <td>85.000000</td>\n",
              "      <td>7.633333</td>\n",
              "    </tr>\n",
              "    <tr>\n",
              "      <th>3</th>\n",
              "      <td>10</td>\n",
              "      <td>8</td>\n",
              "      <td>8</td>\n",
              "      <td>0</td>\n",
              "      <td>8</td>\n",
              "      <td>0</td>\n",
              "      <td>13.133333</td>\n",
              "      <td>100.000000</td>\n",
              "      <td>1.641667</td>\n",
              "    </tr>\n",
              "    <tr>\n",
              "      <th>4</th>\n",
              "      <td>117</td>\n",
              "      <td>96</td>\n",
              "      <td>13</td>\n",
              "      <td>83</td>\n",
              "      <td>112</td>\n",
              "      <td>4</td>\n",
              "      <td>64.016667</td>\n",
              "      <td>88.888889</td>\n",
              "      <td>4.924359</td>\n",
              "    </tr>\n",
              "  </tbody>\n",
              "</table>\n",
              "</div>"
            ],
            "text/plain": [
              "   Incoming Attempts  Normal Term Seizures  Answered Calls  \\\n",
              "0                 41                    41              40   \n",
              "1                239                    49              11   \n",
              "2               8019                   459             188   \n",
              "3                 10                     8               8   \n",
              "4                117                    96              13   \n",
              "\n",
              "   Normal Not Answer Calls  Outgoing Seizures  FEV Seizures  \\\n",
              "0                        1                 41             0   \n",
              "1                       38                 71            14   \n",
              "2                      271                643           103   \n",
              "3                        0                  8             0   \n",
              "4                       83                112             4   \n",
              "\n",
              "   Network Conversation Minutes         NER       ACD  \n",
              "0                     14.533333  100.000000  0.363333  \n",
              "1                     36.666667   85.964912  3.333333  \n",
              "2                   1435.066667   85.000000  7.633333  \n",
              "3                     13.133333  100.000000  1.641667  \n",
              "4                     64.016667   88.888889  4.924359  "
            ]
          },
          "metadata": {
            "tags": []
          },
          "execution_count": 20
        }
      ]
    },
    {
      "metadata": {
        "id": "eoUdzc55sg9Q",
        "colab_type": "code",
        "colab": {}
      },
      "cell_type": "code",
      "source": [
        "y = data['New Pricing Service']"
      ],
      "execution_count": 0,
      "outputs": []
    },
    {
      "metadata": {
        "id": "684MMFrfs_Ms",
        "colab_type": "code",
        "colab": {
          "base_uri": "https://localhost:8080/",
          "height": 35
        },
        "outputId": "3ad6a7f2-e1e4-44ff-bb64-ea2e04a369f3"
      },
      "cell_type": "code",
      "source": [
        "y.unique()"
      ],
      "execution_count": 23,
      "outputs": [
        {
          "output_type": "execute_result",
          "data": {
            "text/plain": [
              "array(['Call Center', 'Corporate'], dtype=object)"
            ]
          },
          "metadata": {
            "tags": []
          },
          "execution_count": 23
        }
      ]
    },
    {
      "metadata": {
        "id": "nlqxwOG_s13d",
        "colab_type": "code",
        "colab": {}
      },
      "cell_type": "code",
      "source": [
        "from sklearn.model_selection import train_test_split\n",
        "X_train, X_test, y_train, y_test = train_test_split(X, y, test_size=0.20, random_state=1)"
      ],
      "execution_count": 0,
      "outputs": []
    },
    {
      "metadata": {
        "id": "qpzYykGmt4cD",
        "colab_type": "code",
        "colab": {
          "base_uri": "https://localhost:8080/",
          "height": 145
        },
        "outputId": "1f1aebd9-b2a3-4299-d877-18a21f26c0b3"
      },
      "cell_type": "code",
      "source": [
        "print('Train cases as below')\n",
        "print('X_train shape: ',X_train.shape)\n",
        "print('y_train shape: ',y_train.shape)\n",
        "print('\\nTest cases as below')\n",
        "print('X_test shape: ',X_test.shape)\n",
        "print('y_test shape: ',y_test.shape)"
      ],
      "execution_count": 25,
      "outputs": [
        {
          "output_type": "stream",
          "text": [
            "Train cases as below\n",
            "('X_train shape: ', (440, 9))\n",
            "('y_train shape: ', (440,))\n",
            "\n",
            "Test cases as below\n",
            "('X_test shape: ', (110, 9))\n",
            "('y_test shape: ', (110,))\n"
          ],
          "name": "stdout"
        }
      ]
    }
  ]
}