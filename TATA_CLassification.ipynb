{
  "nbformat": 4,
  "nbformat_minor": 0,
  "metadata": {
    "colab": {
      "name": "TATA_CLassification.ipynb",
      "version": "0.3.2",
      "provenance": [],
      "include_colab_link": true
    },
    "kernelspec": {
      "name": "python2",
      "display_name": "Python 2"
    }
  },
  "cells": [
    {
      "cell_type": "markdown",
      "metadata": {
        "id": "view-in-github",
        "colab_type": "text"
      },
      "source": [
        "<a href=\"https://colab.research.google.com/github/equester/TataTelecomAI/blob/master/TATA_CLassification.ipynb\" target=\"_parent\"><img src=\"https://colab.research.google.com/assets/colab-badge.svg\" alt=\"Open In Colab\"/></a>"
      ]
    },
    {
      "metadata": {
        "id": "0_X58HMWnNUr",
        "colab_type": "code",
        "colab": {}
      },
      "cell_type": "code",
      "source": [
        "import numpy as np                                                 # Implemennts milti-dimensional array and matrices\n",
        "import pandas as pd                                                # For data manipulation and analysis\n",
        "import pandas_profiling\n",
        "import matplotlib.pyplot as plt                                    # Plotting library for Python programming language and it's numerical mathematics extension NumPy\n",
        "import seaborn as sns                                              # Provides a high level interface for drawing attractive and informative statistical graphics\n",
        "%matplotlib inline\n",
        "sns.set()\n",
        "\n",
        "from subprocess import check_output"
      ],
      "execution_count": 0,
      "outputs": []
    },
    {
      "metadata": {
        "id": "NFjv9PeRnYYU",
        "colab_type": "code",
        "colab": {}
      },
      "cell_type": "code",
      "source": [
        "data = pd.read_csv(\"https://raw.githubusercontent.com/equester/TataTelecomAI/master/Sample%20Data/data_P.csv\")"
      ],
      "execution_count": 0,
      "outputs": []
    },
    {
      "metadata": {
        "id": "74sBwC4KnklN",
        "colab_type": "code",
        "colab": {
          "base_uri": "https://localhost:8080/",
          "height": 267
        },
        "outputId": "4065e99b-4062-4597-e444-483f8270b509"
      },
      "cell_type": "code",
      "source": [
        "data.tail(5)"
      ],
      "execution_count": 17,
      "outputs": [
        {
          "output_type": "execute_result",
          "data": {
            "text/html": [
              "<div>\n",
              "<style scoped>\n",
              "    .dataframe tbody tr th:only-of-type {\n",
              "        vertical-align: middle;\n",
              "    }\n",
              "\n",
              "    .dataframe tbody tr th {\n",
              "        vertical-align: top;\n",
              "    }\n",
              "\n",
              "    .dataframe thead th {\n",
              "        text-align: right;\n",
              "    }\n",
              "</style>\n",
              "<table border=\"1\" class=\"dataframe\">\n",
              "  <thead>\n",
              "    <tr style=\"text-align: right;\">\n",
              "      <th></th>\n",
              "      <th>Incoming Attempts</th>\n",
              "      <th>Normal Term Seizures</th>\n",
              "      <th>Answered Calls</th>\n",
              "      <th>Normal Not Answer Calls</th>\n",
              "      <th>Outgoing Seizures</th>\n",
              "      <th>FEV Seizures</th>\n",
              "      <th>Network Conversation Minutes</th>\n",
              "      <th>NER</th>\n",
              "      <th>ACD</th>\n",
              "      <th>New Pricing Service</th>\n",
              "    </tr>\n",
              "  </thead>\n",
              "  <tbody>\n",
              "    <tr>\n",
              "      <th>545</th>\n",
              "      <td>1203</td>\n",
              "      <td>348</td>\n",
              "      <td>100</td>\n",
              "      <td>248</td>\n",
              "      <td>360</td>\n",
              "      <td>1</td>\n",
              "      <td>222.316667</td>\n",
              "      <td>96.935933</td>\n",
              "      <td>2.223167</td>\n",
              "      <td>Corporate</td>\n",
              "    </tr>\n",
              "    <tr>\n",
              "      <th>546</th>\n",
              "      <td>11272</td>\n",
              "      <td>8553</td>\n",
              "      <td>235</td>\n",
              "      <td>8318</td>\n",
              "      <td>8576</td>\n",
              "      <td>22</td>\n",
              "      <td>661.883333</td>\n",
              "      <td>99.988310</td>\n",
              "      <td>2.816525</td>\n",
              "      <td>Call Center</td>\n",
              "    </tr>\n",
              "    <tr>\n",
              "      <th>547</th>\n",
              "      <td>53099</td>\n",
              "      <td>44837</td>\n",
              "      <td>13750</td>\n",
              "      <td>31087</td>\n",
              "      <td>48122</td>\n",
              "      <td>1965</td>\n",
              "      <td>37163.766670</td>\n",
              "      <td>97.140195</td>\n",
              "      <td>2.702819</td>\n",
              "      <td>Corporate</td>\n",
              "    </tr>\n",
              "    <tr>\n",
              "      <th>548</th>\n",
              "      <td>1325</td>\n",
              "      <td>1112</td>\n",
              "      <td>30</td>\n",
              "      <td>1082</td>\n",
              "      <td>1153</td>\n",
              "      <td>37</td>\n",
              "      <td>96.050000</td>\n",
              "      <td>99.641577</td>\n",
              "      <td>3.201667</td>\n",
              "      <td>Call Center</td>\n",
              "    </tr>\n",
              "    <tr>\n",
              "      <th>549</th>\n",
              "      <td>48929</td>\n",
              "      <td>47024</td>\n",
              "      <td>25699</td>\n",
              "      <td>21325</td>\n",
              "      <td>47652</td>\n",
              "      <td>533</td>\n",
              "      <td>83347.633330</td>\n",
              "      <td>99.798383</td>\n",
              "      <td>3.243225</td>\n",
              "      <td>Corporate</td>\n",
              "    </tr>\n",
              "  </tbody>\n",
              "</table>\n",
              "</div>"
            ],
            "text/plain": [
              "     Incoming Attempts  Normal Term Seizures  Answered Calls  \\\n",
              "545               1203                   348             100   \n",
              "546              11272                  8553             235   \n",
              "547              53099                 44837           13750   \n",
              "548               1325                  1112              30   \n",
              "549              48929                 47024           25699   \n",
              "\n",
              "     Normal Not Answer Calls  Outgoing Seizures  FEV Seizures  \\\n",
              "545                      248                360             1   \n",
              "546                     8318               8576            22   \n",
              "547                    31087              48122          1965   \n",
              "548                     1082               1153            37   \n",
              "549                    21325              47652           533   \n",
              "\n",
              "     Network Conversation Minutes        NER       ACD New Pricing Service  \n",
              "545                    222.316667  96.935933  2.223167           Corporate  \n",
              "546                    661.883333  99.988310  2.816525         Call Center  \n",
              "547                  37163.766670  97.140195  2.702819           Corporate  \n",
              "548                     96.050000  99.641577  3.201667         Call Center  \n",
              "549                  83347.633330  99.798383  3.243225           Corporate  "
            ]
          },
          "metadata": {
            "tags": []
          },
          "execution_count": 17
        }
      ]
    },
    {
      "metadata": {
        "id": "qU_PyYD-o9-h",
        "colab_type": "code",
        "colab": {}
      },
      "cell_type": "code",
      "source": [
        "feature_cols = ['Incoming Attempts',\t'Normal Term Seizures'\t,'Answered Calls','Normal Not Answer Calls',\t'Outgoing Seizures',\t'FEV Seizures',\t'Network Conversation Minutes',\t'NER', 'ACD']                # create a Python list of feature names\n",
        "X = data[feature_cols] "
      ],
      "execution_count": 0,
      "outputs": []
    },
    {
      "metadata": {
        "id": "fQlv6aMVqvx-",
        "colab_type": "code",
        "colab": {
          "base_uri": "https://localhost:8080/",
          "height": 51
        },
        "outputId": "25088170-2699-42ec-ebeb-014303806281"
      },
      "cell_type": "code",
      "source": [
        "print(type(X))\n",
        "print(X.shape)"
      ],
      "execution_count": 19,
      "outputs": [
        {
          "output_type": "stream",
          "text": [
            "<class 'pandas.core.frame.DataFrame'>\n",
            "(550, 9)\n"
          ],
          "name": "stdout"
        }
      ]
    },
    {
      "metadata": {
        "id": "Hx9I_7lBrC3V",
        "colab_type": "code",
        "colab": {
          "base_uri": "https://localhost:8080/",
          "height": 274
        },
        "outputId": "deec7b04-166c-4b2b-9b40-9fd7fda06917"
      },
      "cell_type": "code",
      "source": [
        "X = data.loc[:,data.columns != 'New Pricing Service']\n",
        "X.head()"
      ],
      "execution_count": 20,
      "outputs": [
        {
          "output_type": "execute_result",
          "data": {
            "text/html": [
              "<div>\n",
              "<style scoped>\n",
              "    .dataframe tbody tr th:only-of-type {\n",
              "        vertical-align: middle;\n",
              "    }\n",
              "\n",
              "    .dataframe tbody tr th {\n",
              "        vertical-align: top;\n",
              "    }\n",
              "\n",
              "    .dataframe thead th {\n",
              "        text-align: right;\n",
              "    }\n",
              "</style>\n",
              "<table border=\"1\" class=\"dataframe\">\n",
              "  <thead>\n",
              "    <tr style=\"text-align: right;\">\n",
              "      <th></th>\n",
              "      <th>Incoming Attempts</th>\n",
              "      <th>Normal Term Seizures</th>\n",
              "      <th>Answered Calls</th>\n",
              "      <th>Normal Not Answer Calls</th>\n",
              "      <th>Outgoing Seizures</th>\n",
              "      <th>FEV Seizures</th>\n",
              "      <th>Network Conversation Minutes</th>\n",
              "      <th>NER</th>\n",
              "      <th>ACD</th>\n",
              "    </tr>\n",
              "  </thead>\n",
              "  <tbody>\n",
              "    <tr>\n",
              "      <th>0</th>\n",
              "      <td>41</td>\n",
              "      <td>41</td>\n",
              "      <td>40</td>\n",
              "      <td>1</td>\n",
              "      <td>41</td>\n",
              "      <td>0</td>\n",
              "      <td>14.533333</td>\n",
              "      <td>100.000000</td>\n",
              "      <td>0.363333</td>\n",
              "    </tr>\n",
              "    <tr>\n",
              "      <th>1</th>\n",
              "      <td>239</td>\n",
              "      <td>49</td>\n",
              "      <td>11</td>\n",
              "      <td>38</td>\n",
              "      <td>71</td>\n",
              "      <td>14</td>\n",
              "      <td>36.666667</td>\n",
              "      <td>85.964912</td>\n",
              "      <td>3.333333</td>\n",
              "    </tr>\n",
              "    <tr>\n",
              "      <th>2</th>\n",
              "      <td>8019</td>\n",
              "      <td>459</td>\n",
              "      <td>188</td>\n",
              "      <td>271</td>\n",
              "      <td>643</td>\n",
              "      <td>103</td>\n",
              "      <td>1435.066667</td>\n",
              "      <td>85.000000</td>\n",
              "      <td>7.633333</td>\n",
              "    </tr>\n",
              "    <tr>\n",
              "      <th>3</th>\n",
              "      <td>10</td>\n",
              "      <td>8</td>\n",
              "      <td>8</td>\n",
              "      <td>0</td>\n",
              "      <td>8</td>\n",
              "      <td>0</td>\n",
              "      <td>13.133333</td>\n",
              "      <td>100.000000</td>\n",
              "      <td>1.641667</td>\n",
              "    </tr>\n",
              "    <tr>\n",
              "      <th>4</th>\n",
              "      <td>117</td>\n",
              "      <td>96</td>\n",
              "      <td>13</td>\n",
              "      <td>83</td>\n",
              "      <td>112</td>\n",
              "      <td>4</td>\n",
              "      <td>64.016667</td>\n",
              "      <td>88.888889</td>\n",
              "      <td>4.924359</td>\n",
              "    </tr>\n",
              "  </tbody>\n",
              "</table>\n",
              "</div>"
            ],
            "text/plain": [
              "   Incoming Attempts  Normal Term Seizures  Answered Calls  \\\n",
              "0                 41                    41              40   \n",
              "1                239                    49              11   \n",
              "2               8019                   459             188   \n",
              "3                 10                     8               8   \n",
              "4                117                    96              13   \n",
              "\n",
              "   Normal Not Answer Calls  Outgoing Seizures  FEV Seizures  \\\n",
              "0                        1                 41             0   \n",
              "1                       38                 71            14   \n",
              "2                      271                643           103   \n",
              "3                        0                  8             0   \n",
              "4                       83                112             4   \n",
              "\n",
              "   Network Conversation Minutes         NER       ACD  \n",
              "0                     14.533333  100.000000  0.363333  \n",
              "1                     36.666667   85.964912  3.333333  \n",
              "2                   1435.066667   85.000000  7.633333  \n",
              "3                     13.133333  100.000000  1.641667  \n",
              "4                     64.016667   88.888889  4.924359  "
            ]
          },
          "metadata": {
            "tags": []
          },
          "execution_count": 20
        }
      ]
    },
    {
      "metadata": {
        "id": "eoUdzc55sg9Q",
        "colab_type": "code",
        "colab": {}
      },
      "cell_type": "code",
      "source": [
        "y = data['New Pricing Service']"
      ],
      "execution_count": 0,
      "outputs": []
    },
    {
      "metadata": {
        "id": "684MMFrfs_Ms",
        "colab_type": "code",
        "colab": {
          "base_uri": "https://localhost:8080/",
          "height": 34
        },
        "outputId": "3ad6a7f2-e1e4-44ff-bb64-ea2e04a369f3"
      },
      "cell_type": "code",
      "source": [
        "y.unique()"
      ],
      "execution_count": 23,
      "outputs": [
        {
          "output_type": "execute_result",
          "data": {
            "text/plain": [
              "array(['Call Center', 'Corporate'], dtype=object)"
            ]
          },
          "metadata": {
            "tags": []
          },
          "execution_count": 23
        }
      ]
    },
    {
      "metadata": {
        "id": "nlqxwOG_s13d",
        "colab_type": "code",
        "colab": {}
      },
      "cell_type": "code",
      "source": [
        "from sklearn.model_selection import train_test_split\n",
        "X_train, X_test, y_train, y_test = train_test_split(X, y, test_size=0.20, random_state=1)"
      ],
      "execution_count": 0,
      "outputs": []
    },
    {
      "metadata": {
        "id": "qpzYykGmt4cD",
        "colab_type": "code",
        "colab": {
          "base_uri": "https://localhost:8080/",
          "height": 137
        },
        "outputId": "1f1aebd9-b2a3-4299-d877-18a21f26c0b3"
      },
      "cell_type": "code",
      "source": [
        "print('Train cases as below')\n",
        "print('X_train shape: ',X_train.shape)\n",
        "print('y_train shape: ',y_train.shape)\n",
        "print('\\nTest cases as below')\n",
        "print('X_test shape: ',X_test.shape)\n",
        "print('y_test shape: ',y_test.shape)"
      ],
      "execution_count": 25,
      "outputs": [
        {
          "output_type": "stream",
          "text": [
            "Train cases as below\n",
            "('X_train shape: ', (440, 9))\n",
            "('y_train shape: ', (440,))\n",
            "\n",
            "Test cases as below\n",
            "('X_test shape: ', (110, 9))\n",
            "('y_test shape: ', (110,))\n"
          ],
          "name": "stdout"
        }
      ]
    },
    {
      "metadata": {
        "id": "1XYiNyv0wm_S",
        "colab_type": "code",
        "colab": {
          "base_uri": "https://localhost:8080/",
          "height": 140
        },
        "outputId": "4324b95b-9d83-431b-cba0-30f8679c377e"
      },
      "cell_type": "code",
      "source": [
        "from sklearn.linear_model import LogisticRegression\n",
        "logreg = LogisticRegression()\n",
        "logreg.fit(X_train,y_train)"
      ],
      "execution_count": 26,
      "outputs": [
        {
          "output_type": "stream",
          "text": [
            "/usr/local/lib/python2.7/dist-packages/sklearn/linear_model/logistic.py:433: FutureWarning: Default solver will be changed to 'lbfgs' in 0.22. Specify a solver to silence this warning.\n",
            "  FutureWarning)\n"
          ],
          "name": "stderr"
        },
        {
          "output_type": "execute_result",
          "data": {
            "text/plain": [
              "LogisticRegression(C=1.0, class_weight=None, dual=False, fit_intercept=True,\n",
              "          intercept_scaling=1, max_iter=100, multi_class='warn',\n",
              "          n_jobs=None, penalty='l2', random_state=None, solver='warn',\n",
              "          tol=0.0001, verbose=0, warm_start=False)"
            ]
          },
          "metadata": {
            "tags": []
          },
          "execution_count": 26
        }
      ]
    },
    {
      "metadata": {
        "id": "CwTAGjaa2ASJ",
        "colab_type": "code",
        "colab": {}
      },
      "cell_type": "code",
      "source": [
        "from sklearn.tree import DecisionTreeClassifier\n",
        "DTree = DecisionTreeClassifier()\n",
        "DTree.fit(X_train,y_train)"
      ],
      "execution_count": 0,
      "outputs": []
    },
    {
      "metadata": {
        "id": "Hk0O9r0EwryV",
        "colab_type": "code",
        "colab": {}
      },
      "cell_type": "code",
      "source": [
        "y_pred_train = logreg.predict(X_train)"
      ],
      "execution_count": 0,
      "outputs": []
    },
    {
      "metadata": {
        "id": "z8eLPC0swugB",
        "colab_type": "code",
        "colab": {}
      },
      "cell_type": "code",
      "source": [
        "y_pred_test = logreg.predict(X_test)"
      ],
      "execution_count": 0,
      "outputs": []
    },
    {
      "metadata": {
        "id": "0fMJTJw_ww07",
        "colab_type": "code",
        "colab": {
          "base_uri": "https://localhost:8080/",
          "height": 1526
        },
        "outputId": "e2d6e822-4a29-457d-ef6a-3e613828ec45"
      },
      "cell_type": "code",
      "source": [
        "print y_pred_train"
      ],
      "execution_count": 29,
      "outputs": [
        {
          "output_type": "stream",
          "text": [
            "['Corporate' 'Call Center' 'Corporate' 'Call Center' 'Corporate'\n",
            " 'Call Center' 'Call Center' 'Call Center' 'Call Center' 'Corporate'\n",
            " 'Call Center' 'Call Center' 'Call Center' 'Call Center' 'Call Center'\n",
            " 'Call Center' 'Corporate' 'Corporate' 'Call Center' 'Call Center'\n",
            " 'Corporate' 'Call Center' 'Call Center' 'Call Center' 'Corporate'\n",
            " 'Corporate' 'Corporate' 'Call Center' 'Call Center' 'Call Center'\n",
            " 'Call Center' 'Call Center' 'Corporate' 'Call Center' 'Call Center'\n",
            " 'Call Center' 'Call Center' 'Call Center' 'Call Center' 'Call Center'\n",
            " 'Call Center' 'Call Center' 'Call Center' 'Corporate' 'Call Center'\n",
            " 'Call Center' 'Call Center' 'Call Center' 'Call Center' 'Corporate'\n",
            " 'Corporate' 'Corporate' 'Corporate' 'Corporate' 'Call Center' 'Corporate'\n",
            " 'Call Center' 'Corporate' 'Call Center' 'Call Center' 'Call Center'\n",
            " 'Corporate' 'Call Center' 'Corporate' 'Call Center' 'Call Center'\n",
            " 'Call Center' 'Call Center' 'Call Center' 'Corporate' 'Call Center'\n",
            " 'Call Center' 'Call Center' 'Call Center' 'Call Center' 'Corporate'\n",
            " 'Call Center' 'Call Center' 'Call Center' 'Call Center' 'Call Center'\n",
            " 'Call Center' 'Call Center' 'Call Center' 'Call Center' 'Corporate'\n",
            " 'Call Center' 'Call Center' 'Call Center' 'Corporate' 'Call Center'\n",
            " 'Corporate' 'Call Center' 'Corporate' 'Call Center' 'Call Center'\n",
            " 'Corporate' 'Call Center' 'Call Center' 'Corporate' 'Call Center'\n",
            " 'Call Center' 'Call Center' 'Call Center' 'Call Center' 'Corporate'\n",
            " 'Call Center' 'Call Center' 'Call Center' 'Corporate' 'Call Center'\n",
            " 'Call Center' 'Call Center' 'Corporate' 'Call Center' 'Corporate'\n",
            " 'Corporate' 'Call Center' 'Corporate' 'Call Center' 'Call Center'\n",
            " 'Corporate' 'Corporate' 'Call Center' 'Call Center' 'Corporate'\n",
            " 'Corporate' 'Call Center' 'Call Center' 'Call Center' 'Call Center'\n",
            " 'Call Center' 'Call Center' 'Call Center' 'Call Center' 'Corporate'\n",
            " 'Call Center' 'Call Center' 'Call Center' 'Call Center' 'Corporate'\n",
            " 'Corporate' 'Corporate' 'Corporate' 'Call Center' 'Call Center'\n",
            " 'Call Center' 'Corporate' 'Corporate' 'Call Center' 'Call Center'\n",
            " 'Corporate' 'Call Center' 'Call Center' 'Call Center' 'Corporate'\n",
            " 'Call Center' 'Call Center' 'Call Center' 'Call Center' 'Call Center'\n",
            " 'Call Center' 'Call Center' 'Call Center' 'Call Center' 'Corporate'\n",
            " 'Call Center' 'Call Center' 'Corporate' 'Call Center' 'Call Center'\n",
            " 'Call Center' 'Corporate' 'Call Center' 'Call Center' 'Call Center'\n",
            " 'Corporate' 'Call Center' 'Corporate' 'Corporate' 'Call Center'\n",
            " 'Call Center' 'Call Center' 'Call Center' 'Call Center' 'Call Center'\n",
            " 'Call Center' 'Call Center' 'Call Center' 'Call Center' 'Call Center'\n",
            " 'Call Center' 'Call Center' 'Call Center' 'Call Center' 'Corporate'\n",
            " 'Call Center' 'Call Center' 'Call Center' 'Call Center' 'Call Center'\n",
            " 'Corporate' 'Call Center' 'Corporate' 'Call Center' 'Call Center'\n",
            " 'Call Center' 'Call Center' 'Call Center' 'Corporate' 'Call Center'\n",
            " 'Corporate' 'Corporate' 'Call Center' 'Call Center' 'Corporate'\n",
            " 'Call Center' 'Call Center' 'Call Center' 'Call Center' 'Call Center'\n",
            " 'Corporate' 'Call Center' 'Call Center' 'Call Center' 'Call Center'\n",
            " 'Call Center' 'Call Center' 'Call Center' 'Corporate' 'Call Center'\n",
            " 'Corporate' 'Corporate' 'Call Center' 'Corporate' 'Corporate'\n",
            " 'Call Center' 'Corporate' 'Corporate' 'Corporate' 'Call Center'\n",
            " 'Call Center' 'Corporate' 'Corporate' 'Call Center' 'Call Center'\n",
            " 'Call Center' 'Call Center' 'Call Center' 'Corporate' 'Call Center'\n",
            " 'Call Center' 'Corporate' 'Corporate' 'Corporate' 'Call Center'\n",
            " 'Call Center' 'Call Center' 'Call Center' 'Corporate' 'Corporate'\n",
            " 'Corporate' 'Call Center' 'Call Center' 'Call Center' 'Corporate'\n",
            " 'Corporate' 'Call Center' 'Call Center' 'Call Center' 'Call Center'\n",
            " 'Corporate' 'Corporate' 'Call Center' 'Call Center' 'Call Center'\n",
            " 'Corporate' 'Call Center' 'Call Center' 'Call Center' 'Corporate'\n",
            " 'Call Center' 'Corporate' 'Call Center' 'Call Center' 'Call Center'\n",
            " 'Call Center' 'Corporate' 'Call Center' 'Call Center' 'Call Center'\n",
            " 'Call Center' 'Call Center' 'Call Center' 'Corporate' 'Call Center'\n",
            " 'Call Center' 'Call Center' 'Call Center' 'Corporate' 'Call Center'\n",
            " 'Corporate' 'Call Center' 'Corporate' 'Corporate' 'Call Center'\n",
            " 'Call Center' 'Corporate' 'Call Center' 'Call Center' 'Call Center'\n",
            " 'Corporate' 'Corporate' 'Call Center' 'Call Center' 'Call Center'\n",
            " 'Call Center' 'Call Center' 'Call Center' 'Call Center' 'Call Center'\n",
            " 'Call Center' 'Call Center' 'Corporate' 'Corporate' 'Corporate'\n",
            " 'Corporate' 'Corporate' 'Call Center' 'Call Center' 'Call Center'\n",
            " 'Call Center' 'Call Center' 'Corporate' 'Corporate' 'Call Center'\n",
            " 'Call Center' 'Corporate' 'Call Center' 'Call Center' 'Call Center'\n",
            " 'Call Center' 'Call Center' 'Call Center' 'Call Center' 'Call Center'\n",
            " 'Corporate' 'Call Center' 'Call Center' 'Call Center' 'Call Center'\n",
            " 'Call Center' 'Corporate' 'Call Center' 'Call Center' 'Corporate'\n",
            " 'Call Center' 'Call Center' 'Call Center' 'Call Center' 'Corporate'\n",
            " 'Corporate' 'Call Center' 'Corporate' 'Corporate' 'Call Center'\n",
            " 'Corporate' 'Call Center' 'Call Center' 'Call Center' 'Call Center'\n",
            " 'Call Center' 'Call Center' 'Call Center' 'Corporate' 'Call Center'\n",
            " 'Call Center' 'Call Center' 'Call Center' 'Corporate' 'Corporate'\n",
            " 'Corporate' 'Call Center' 'Call Center' 'Corporate' 'Corporate'\n",
            " 'Call Center' 'Call Center' 'Call Center' 'Corporate' 'Call Center'\n",
            " 'Corporate' 'Call Center' 'Call Center' 'Call Center' 'Call Center'\n",
            " 'Call Center' 'Corporate' 'Call Center' 'Call Center' 'Call Center'\n",
            " 'Call Center' 'Call Center' 'Corporate' 'Corporate' 'Call Center'\n",
            " 'Call Center' 'Call Center' 'Call Center' 'Corporate' 'Corporate'\n",
            " 'Call Center' 'Call Center' 'Corporate' 'Corporate' 'Call Center'\n",
            " 'Call Center' 'Corporate' 'Call Center' 'Call Center' 'Call Center'\n",
            " 'Call Center' 'Corporate' 'Corporate' 'Call Center' 'Call Center'\n",
            " 'Call Center' 'Call Center' 'Call Center' 'Corporate' 'Call Center'\n",
            " 'Call Center' 'Call Center' 'Corporate' 'Corporate' 'Call Center'\n",
            " 'Call Center' 'Call Center' 'Call Center' 'Call Center']\n"
          ],
          "name": "stdout"
        }
      ]
    },
    {
      "metadata": {
        "id": "s5r3ba3Gw018",
        "colab_type": "code",
        "colab": {
          "base_uri": "https://localhost:8080/",
          "height": 1957
        },
        "outputId": "2f620f0b-4da9-4f7e-a748-a6e65a43035f"
      },
      "cell_type": "code",
      "source": [
        "logreg.predict_proba(X_test)"
      ],
      "execution_count": 30,
      "outputs": [
        {
          "output_type": "stream",
          "text": [
            "/usr/local/lib/python2.7/dist-packages/sklearn/linear_model/base.py:297: RuntimeWarning: overflow encountered in exp\n",
            "  np.exp(prob, prob)\n"
          ],
          "name": "stderr"
        },
        {
          "output_type": "execute_result",
          "data": {
            "text/plain": [
              "array([[5.17676372e-001, 4.82323628e-001],\n",
              "       [5.22471521e-001, 4.77528479e-001],\n",
              "       [7.42369803e-001, 2.57630197e-001],\n",
              "       [5.01095165e-001, 4.98904835e-001],\n",
              "       [5.25750568e-001, 4.74249432e-001],\n",
              "       [5.17802675e-001, 4.82197325e-001],\n",
              "       [5.17862568e-001, 4.82137432e-001],\n",
              "       [5.13088311e-001, 4.86911689e-001],\n",
              "       [5.05555976e-001, 4.94444024e-001],\n",
              "       [0.00000000e+000, 1.00000000e+000],\n",
              "       [5.17059141e-001, 4.82940859e-001],\n",
              "       [5.38889975e-001, 4.61110025e-001],\n",
              "       [5.21187520e-001, 4.78812480e-001],\n",
              "       [5.18346764e-001, 4.81653236e-001],\n",
              "       [5.14014116e-001, 4.85985884e-001],\n",
              "       [3.25574508e-001, 6.74425492e-001],\n",
              "       [0.00000000e+000, 1.00000000e+000],\n",
              "       [5.21817053e-001, 4.78182947e-001],\n",
              "       [5.01149482e-001, 4.98850518e-001],\n",
              "       [5.13077129e-001, 4.86922871e-001],\n",
              "       [5.18529690e-001, 4.81470310e-001],\n",
              "       [1.00000000e+000, 0.00000000e+000],\n",
              "       [0.00000000e+000, 1.00000000e+000],\n",
              "       [1.00000000e+000, 2.33108139e-148],\n",
              "       [1.00000000e+000, 3.85332299e-021],\n",
              "       [5.21217243e-001, 4.78782757e-001],\n",
              "       [5.00994827e-008, 9.99999950e-001],\n",
              "       [5.14098312e-001, 4.85901688e-001],\n",
              "       [0.00000000e+000, 1.00000000e+000],\n",
              "       [5.17866186e-001, 4.82133814e-001],\n",
              "       [4.61815733e-001, 5.38184267e-001],\n",
              "       [4.99854027e-001, 5.00145973e-001],\n",
              "       [5.45892074e-001, 4.54107926e-001],\n",
              "       [2.01728885e-008, 9.99999980e-001],\n",
              "       [5.18187602e-001, 4.81812398e-001],\n",
              "       [7.32036760e-002, 9.26796324e-001],\n",
              "       [3.44507914e-001, 6.55492086e-001],\n",
              "       [5.13427959e-001, 4.86572041e-001],\n",
              "       [5.18474681e-001, 4.81525319e-001],\n",
              "       [1.42534734e-001, 8.57465266e-001],\n",
              "       [2.08793838e-005, 9.99979121e-001],\n",
              "       [4.95090452e-001, 5.04909548e-001],\n",
              "       [7.27495978e-001, 2.72504022e-001],\n",
              "       [0.00000000e+000, 1.00000000e+000],\n",
              "       [1.00000000e+000, 6.73979773e-085],\n",
              "       [5.16485740e-001, 4.83514260e-001],\n",
              "       [5.14544074e-001, 4.85455926e-001],\n",
              "       [4.23331615e-001, 5.76668385e-001],\n",
              "       [5.18539883e-001, 4.81460117e-001],\n",
              "       [5.19239719e-001, 4.80760281e-001],\n",
              "       [5.17398528e-001, 4.82601472e-001],\n",
              "       [5.13939408e-001, 4.86060592e-001],\n",
              "       [0.00000000e+000, 1.00000000e+000],\n",
              "       [4.96861242e-001, 5.03138758e-001],\n",
              "       [5.14348422e-008, 9.99999949e-001],\n",
              "       [6.02898769e-001, 3.97101231e-001],\n",
              "       [5.19728273e-001, 4.80271727e-001],\n",
              "       [4.84279838e-001, 5.15720162e-001],\n",
              "       [5.18230563e-001, 4.81769437e-001],\n",
              "       [5.09006727e-001, 4.90993273e-001],\n",
              "       [1.08801856e-014, 1.00000000e+000],\n",
              "       [5.11742051e-001, 4.88257949e-001],\n",
              "       [2.53755008e-001, 7.46244992e-001],\n",
              "       [5.13959982e-001, 4.86040018e-001],\n",
              "       [5.16398202e-001, 4.83601798e-001],\n",
              "       [0.00000000e+000, 1.00000000e+000],\n",
              "       [5.15794154e-001, 4.84205846e-001],\n",
              "       [5.35630378e-001, 4.64369622e-001],\n",
              "       [5.16804920e-001, 4.83195080e-001],\n",
              "       [5.20325217e-001, 4.79674783e-001],\n",
              "       [2.78675038e-003, 9.97213250e-001],\n",
              "       [0.00000000e+000, 1.00000000e+000],\n",
              "       [4.80787213e-001, 5.19212787e-001],\n",
              "       [5.18281962e-001, 4.81718038e-001],\n",
              "       [3.07752874e-005, 9.99969225e-001],\n",
              "       [5.15296220e-001, 4.84703780e-001],\n",
              "       [5.23581894e-001, 4.76418106e-001],\n",
              "       [5.14958716e-001, 4.85041284e-001],\n",
              "       [3.44169138e-014, 1.00000000e+000],\n",
              "       [5.17898216e-001, 4.82101784e-001],\n",
              "       [5.14717480e-001, 4.85282520e-001],\n",
              "       [5.38125850e-001, 4.61874150e-001],\n",
              "       [5.31123009e-001, 4.68876991e-001],\n",
              "       [5.16856452e-001, 4.83143548e-001],\n",
              "       [6.87803569e-001, 3.12196431e-001],\n",
              "       [3.97955728e-001, 6.02044272e-001],\n",
              "       [2.23889747e-001, 7.76110253e-001],\n",
              "       [5.18386228e-001, 4.81613772e-001],\n",
              "       [6.75916535e-001, 3.24083465e-001],\n",
              "       [0.00000000e+000, 1.00000000e+000],\n",
              "       [2.90730505e-001, 7.09269495e-001],\n",
              "       [9.43463511e-001, 5.65364890e-002],\n",
              "       [9.99806529e-001, 1.93470678e-004],\n",
              "       [4.95440847e-001, 5.04559153e-001],\n",
              "       [5.20654646e-001, 4.79345354e-001],\n",
              "       [3.18129301e-010, 1.00000000e+000],\n",
              "       [7.56268371e-001, 2.43731629e-001],\n",
              "       [5.19101045e-001, 4.80898955e-001],\n",
              "       [0.00000000e+000, 1.00000000e+000],\n",
              "       [5.17174002e-001, 4.82825998e-001],\n",
              "       [7.29750243e-001, 2.70249757e-001],\n",
              "       [9.32667824e-001, 6.73321760e-002],\n",
              "       [4.90192696e-001, 5.09807304e-001],\n",
              "       [0.00000000e+000, 1.00000000e+000],\n",
              "       [0.00000000e+000, 1.00000000e+000],\n",
              "       [5.18105338e-001, 4.81894662e-001],\n",
              "       [5.17949498e-001, 4.82050502e-001],\n",
              "       [5.29965175e-001, 4.70034825e-001],\n",
              "       [9.99947181e-001, 5.28192645e-005],\n",
              "       [4.53084021e-002, 9.54691598e-001]])"
            ]
          },
          "metadata": {
            "tags": []
          },
          "execution_count": 30
        }
      ]
    },
    {
      "metadata": {
        "id": "ley4lHe8w7Vo",
        "colab_type": "code",
        "colab": {
          "base_uri": "https://localhost:8080/",
          "height": 34
        },
        "outputId": "ecf25739-8339-425b-99a6-4fea477d8c9f"
      },
      "cell_type": "code",
      "source": [
        "from sklearn.metrics import accuracy_score\n",
        "print('Accuracy score for test data is:', accuracy_score(y_test,y_pred_test))\n"
      ],
      "execution_count": 31,
      "outputs": [
        {
          "output_type": "stream",
          "text": [
            "('Accuracy score for test data is:', 0.7272727272727273)\n"
          ],
          "name": "stdout"
        }
      ]
    },
    {
      "metadata": {
        "id": "OYdKroPuxA_X",
        "colab_type": "code",
        "colab": {
          "base_uri": "https://localhost:8080/",
          "height": 68
        },
        "outputId": "f83ef2d2-8f12-43e0-91e7-9b92a52933da"
      },
      "cell_type": "code",
      "source": [
        "from sklearn.metrics import confusion_matrix\n",
        "\n",
        "confusion_matrix = pd.DataFrame(confusion_matrix(y_test, y_pred_test))\n",
        "\n",
        "print(confusion_matrix)"
      ],
      "execution_count": 32,
      "outputs": [
        {
          "output_type": "stream",
          "text": [
            "    0   1\n",
            "0  45   4\n",
            "1  26  35\n"
          ],
          "name": "stdout"
        }
      ]
    },
    {
      "metadata": {
        "id": "GB9paIFqxEQH",
        "colab_type": "code",
        "colab": {
          "base_uri": "https://localhost:8080/",
          "height": 68
        },
        "outputId": "9660221a-44be-48dd-dac9-bda08310874a"
      },
      "cell_type": "code",
      "source": [
        "confusion_matrix.index = ['Call Center','Corporate']\n",
        "confusion_matrix.columns = ['Call Center','Corporate']\n",
        "print(confusion_matrix)"
      ],
      "execution_count": 35,
      "outputs": [
        {
          "output_type": "stream",
          "text": [
            "             Call Center  Corporate\n",
            "Call Center           45          4\n",
            "Corporate             26         35\n"
          ],
          "name": "stdout"
        }
      ]
    },
    {
      "metadata": {
        "id": "dgkTAHjMymhJ",
        "colab_type": "code",
        "colab": {
          "base_uri": "https://localhost:8080/",
          "height": 182
        },
        "outputId": "353801f0-2cf9-4e2d-8591-671154ebf868"
      },
      "cell_type": "code",
      "source": [
        "X_test[:2]"
      ],
      "execution_count": 42,
      "outputs": [
        {
          "output_type": "execute_result",
          "data": {
            "text/html": [
              "<div>\n",
              "<style scoped>\n",
              "    .dataframe tbody tr th:only-of-type {\n",
              "        vertical-align: middle;\n",
              "    }\n",
              "\n",
              "    .dataframe tbody tr th {\n",
              "        vertical-align: top;\n",
              "    }\n",
              "\n",
              "    .dataframe thead th {\n",
              "        text-align: right;\n",
              "    }\n",
              "</style>\n",
              "<table border=\"1\" class=\"dataframe\">\n",
              "  <thead>\n",
              "    <tr style=\"text-align: right;\">\n",
              "      <th></th>\n",
              "      <th>Incoming Attempts</th>\n",
              "      <th>Normal Term Seizures</th>\n",
              "      <th>Answered Calls</th>\n",
              "      <th>Normal Not Answer Calls</th>\n",
              "      <th>Outgoing Seizures</th>\n",
              "      <th>FEV Seizures</th>\n",
              "      <th>Network Conversation Minutes</th>\n",
              "      <th>NER</th>\n",
              "      <th>ACD</th>\n",
              "    </tr>\n",
              "  </thead>\n",
              "  <tbody>\n",
              "    <tr>\n",
              "      <th>160</th>\n",
              "      <td>240</td>\n",
              "      <td>148</td>\n",
              "      <td>40</td>\n",
              "      <td>108</td>\n",
              "      <td>180</td>\n",
              "      <td>23</td>\n",
              "      <td>99.950000</td>\n",
              "      <td>94.267516</td>\n",
              "      <td>2.498750</td>\n",
              "    </tr>\n",
              "    <tr>\n",
              "      <th>306</th>\n",
              "      <td>224</td>\n",
              "      <td>103</td>\n",
              "      <td>36</td>\n",
              "      <td>67</td>\n",
              "      <td>110</td>\n",
              "      <td>7</td>\n",
              "      <td>4.283333</td>\n",
              "      <td>100.000000</td>\n",
              "      <td>0.118981</td>\n",
              "    </tr>\n",
              "  </tbody>\n",
              "</table>\n",
              "</div>"
            ],
            "text/plain": [
              "     Incoming Attempts  Normal Term Seizures  Answered Calls  \\\n",
              "160                240                   148              40   \n",
              "306                224                   103              36   \n",
              "\n",
              "     Normal Not Answer Calls  Outgoing Seizures  FEV Seizures  \\\n",
              "160                      108                180            23   \n",
              "306                       67                110             7   \n",
              "\n",
              "     Network Conversation Minutes         NER       ACD  \n",
              "160                     99.950000   94.267516  2.498750  \n",
              "306                      4.283333  100.000000  0.118981  "
            ]
          },
          "metadata": {
            "tags": []
          },
          "execution_count": 42
        }
      ]
    },
    {
      "metadata": {
        "id": "ryYdJjAuyQ_L",
        "colab_type": "code",
        "colab": {
          "base_uri": "https://localhost:8080/",
          "height": 34
        },
        "outputId": "a23409bb-1fe4-489d-83b6-12988d097382"
      },
      "cell_type": "code",
      "source": [
        "logreg.predict(X_test[:2])"
      ],
      "execution_count": 41,
      "outputs": [
        {
          "output_type": "execute_result",
          "data": {
            "text/plain": [
              "array(['Call Center', 'Call Center'], dtype=object)"
            ]
          },
          "metadata": {
            "tags": []
          },
          "execution_count": 41
        }
      ]
    },
    {
      "metadata": {
        "id": "xuIFHvnCysXt",
        "colab_type": "code",
        "colab": {
          "base_uri": "https://localhost:8080/",
          "height": 34
        },
        "outputId": "0628395e-590b-40f8-d871-8a0fb0e37efc"
      },
      "cell_type": "code",
      "source": [
        "logreg.intercept_"
      ],
      "execution_count": 43,
      "outputs": [
        {
          "output_type": "execute_result",
          "data": {
            "text/plain": [
              "array([-6.43041059e-06])"
            ]
          },
          "metadata": {
            "tags": []
          },
          "execution_count": 43
        }
      ]
    },
    {
      "metadata": {
        "id": "Ws4BygUPywLX",
        "colab_type": "code",
        "colab": {
          "base_uri": "https://localhost:8080/",
          "height": 68
        },
        "outputId": "862176a1-9eb1-4be4-8b1b-a5812de6c9bc"
      },
      "cell_type": "code",
      "source": [
        ""
      ],
      "execution_count": 44,
      "outputs": [
        {
          "output_type": "execute_result",
          "data": {
            "text/plain": [
              "array([[-1.04460608e-04,  3.61375876e-04,  1.64241286e-04,\n",
              "         1.97134590e-04, -5.09361445e-04,  7.61944356e-04,\n",
              "         1.56999795e-04, -7.28672776e-04,  6.26624876e-05]])"
            ]
          },
          "metadata": {
            "tags": []
          },
          "execution_count": 44
        }
      ]
    },
    {
      "metadata": {
        "id": "NMlbjZxuy_HP",
        "colab_type": "code",
        "colab": {
          "base_uri": "https://localhost:8080/",
          "height": 71
        },
        "outputId": "54140366-2c84-475d-d7d2-03c3dce7ccc5"
      },
      "cell_type": "code",
      "source": [
        "logreg.intercept_\n",
        "logreg.coef_\n",
        "feature_cols.insert(0,'Intercept')\n",
        "coef = logreg.coef_.tolist()\n",
        "coef.insert(0, logreg.intercept_)\n"
      ],
      "execution_count": 46,
      "outputs": [
        {
          "output_type": "stream",
          "text": [
            "('Intercept', array([-6.43041059e-06]))\n",
            "('Intercept', [-0.00010446060831015337, 0.00036137587578189355, 0.0001642412857717886, 0.0001971345900107404, -0.0005093614451096853, 0.0007619443558759377, 0.00015699979485722548, -0.0007286727762346164, 6.266248761007911e-05])\n"
          ],
          "name": "stdout"
        }
      ]
    },
    {
      "metadata": {
        "id": "xvOrDKCNzjmJ",
        "colab_type": "code",
        "colab": {
          "base_uri": "https://localhost:8080/",
          "height": 71
        },
        "outputId": "048f139a-cce4-4a19-a24e-eea55943c13b"
      },
      "cell_type": "code",
      "source": [
        "eq1 = zip(feature_cols, coef)\n",
        "\n",
        "for c1,c2 in eq1:\n",
        "    print(c1,c2)"
      ],
      "execution_count": 47,
      "outputs": [
        {
          "output_type": "stream",
          "text": [
            "('Intercept', array([-6.43041059e-06]))\n",
            "('Intercept', [-0.00010446060831015337, 0.00036137587578189355, 0.0001642412857717886, 0.0001971345900107404, -0.0005093614451096853, 0.0007619443558759377, 0.00015699979485722548, -0.0007286727762346164, 6.266248761007911e-05])\n"
          ],
          "name": "stdout"
        }
      ]
    },
    {
      "metadata": {
        "id": "48H1ppDL0tIY",
        "colab_type": "code",
        "colab": {}
      },
      "cell_type": "code",
      "source": [
        "data['Predicted'] = logreg.predict(data.loc[:,data.columns != 'New Pricing Service'])"
      ],
      "execution_count": 0,
      "outputs": []
    },
    {
      "metadata": {
        "id": "8aCaLh-i1KEj",
        "colab_type": "code",
        "colab": {}
      },
      "cell_type": "code",
      "source": [
        "data.to_csv(\"predicted_Output.csv\")"
      ],
      "execution_count": 0,
      "outputs": []
    }
  ]
}