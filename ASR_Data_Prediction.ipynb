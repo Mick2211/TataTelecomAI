{
  "nbformat": 4,
  "nbformat_minor": 0,
  "metadata": {
    "colab": {
      "name": "ASR Data Prediction.ipynb",
      "version": "0.3.2",
      "provenance": [],
      "include_colab_link": true
    },
    "kernelspec": {
      "name": "python3",
      "display_name": "Python 3"
    }
  },
  "cells": [
    {
      "cell_type": "markdown",
      "metadata": {
        "id": "view-in-github",
        "colab_type": "text"
      },
      "source": [
        "<a href=\"https://colab.research.google.com/github/equester/TataTelecomAI/blob/master/ASR_Data_Prediction.ipynb\" target=\"_parent\"><img src=\"https://colab.research.google.com/assets/colab-badge.svg\" alt=\"Open In Colab\"/></a>"
      ]
    },
    {
      "metadata": {
        "id": "gzlGQkni2GCD",
        "colab_type": "code",
        "colab": {}
      },
      "cell_type": "code",
      "source": [
        "# Loading Library \n",
        "import pandas as pd\n",
        "import seaborn as sns"
      ],
      "execution_count": 0,
      "outputs": []
    },
    {
      "metadata": {
        "id": "EUpo3mkt2RX5",
        "colab_type": "code",
        "colab": {}
      },
      "cell_type": "code",
      "source": [
        "data = pd.read_csv(\"https://raw.githubusercontent.com/equester/TataTelecomAI/master/Sample%20Data/asr_data_tt.csv\")"
      ],
      "execution_count": 0,
      "outputs": []
    },
    {
      "metadata": {
        "id": "kOSKXo3VAfDh",
        "colab_type": "code",
        "colab": {
          "base_uri": "https://localhost:8080/",
          "height": 86
        },
        "outputId": "e640f323-f979-4bae-cec2-cf649913e274"
      },
      "cell_type": "code",
      "source": [
        "data.columns"
      ],
      "execution_count": 89,
      "outputs": [
        {
          "output_type": "execute_result",
          "data": {
            "text/plain": [
              "Index(['Incoming Attempts', 'Normal Term Seizures', 'Answered Calls',\n",
              "       'Normal Not Answer Calls', 'Outgoing Seizures', 'FEV Seizures',\n",
              "       'Network Conversation Minutes', 'NER', 'ACD'],\n",
              "      dtype='object')"
            ]
          },
          "metadata": {
            "tags": []
          },
          "execution_count": 89
        }
      ]
    },
    {
      "metadata": {
        "id": "drKcuL6O3MVC",
        "colab_type": "code",
        "colab": {
          "base_uri": "https://localhost:8080/",
          "height": 428
        },
        "outputId": "315fdd8d-9a22-4b99-b968-b01bd95f160d"
      },
      "cell_type": "code",
      "source": [
        "data.head(10)"
      ],
      "execution_count": 90,
      "outputs": [
        {
          "output_type": "execute_result",
          "data": {
            "text/html": [
              "<div>\n",
              "<style scoped>\n",
              "    .dataframe tbody tr th:only-of-type {\n",
              "        vertical-align: middle;\n",
              "    }\n",
              "\n",
              "    .dataframe tbody tr th {\n",
              "        vertical-align: top;\n",
              "    }\n",
              "\n",
              "    .dataframe thead th {\n",
              "        text-align: right;\n",
              "    }\n",
              "</style>\n",
              "<table border=\"1\" class=\"dataframe\">\n",
              "  <thead>\n",
              "    <tr style=\"text-align: right;\">\n",
              "      <th></th>\n",
              "      <th>Incoming Attempts</th>\n",
              "      <th>Normal Term Seizures</th>\n",
              "      <th>Answered Calls</th>\n",
              "      <th>Normal Not Answer Calls</th>\n",
              "      <th>Outgoing Seizures</th>\n",
              "      <th>FEV Seizures</th>\n",
              "      <th>Network Conversation Minutes</th>\n",
              "      <th>NER</th>\n",
              "      <th>ACD</th>\n",
              "    </tr>\n",
              "  </thead>\n",
              "  <tbody>\n",
              "    <tr>\n",
              "      <th>0</th>\n",
              "      <td>171</td>\n",
              "      <td>51</td>\n",
              "      <td>19</td>\n",
              "      <td>32</td>\n",
              "      <td>52</td>\n",
              "      <td>1</td>\n",
              "      <td>30.833333</td>\n",
              "      <td>100.000000</td>\n",
              "      <td>1.622807</td>\n",
              "    </tr>\n",
              "    <tr>\n",
              "      <th>1</th>\n",
              "      <td>1</td>\n",
              "      <td>44</td>\n",
              "      <td>31</td>\n",
              "      <td>13</td>\n",
              "      <td>44</td>\n",
              "      <td>0</td>\n",
              "      <td>0.033333</td>\n",
              "      <td>100.000000</td>\n",
              "      <td>0.001075</td>\n",
              "    </tr>\n",
              "    <tr>\n",
              "      <th>2</th>\n",
              "      <td>456601</td>\n",
              "      <td>440591</td>\n",
              "      <td>97563</td>\n",
              "      <td>343028</td>\n",
              "      <td>453573</td>\n",
              "      <td>3648</td>\n",
              "      <td>584245.166700</td>\n",
              "      <td>97.925432</td>\n",
              "      <td>5.988389</td>\n",
              "    </tr>\n",
              "    <tr>\n",
              "      <th>3</th>\n",
              "      <td>41</td>\n",
              "      <td>41</td>\n",
              "      <td>40</td>\n",
              "      <td>1</td>\n",
              "      <td>41</td>\n",
              "      <td>0</td>\n",
              "      <td>14.533333</td>\n",
              "      <td>100.000000</td>\n",
              "      <td>0.363333</td>\n",
              "    </tr>\n",
              "    <tr>\n",
              "      <th>4</th>\n",
              "      <td>239</td>\n",
              "      <td>49</td>\n",
              "      <td>11</td>\n",
              "      <td>38</td>\n",
              "      <td>71</td>\n",
              "      <td>14</td>\n",
              "      <td>36.666667</td>\n",
              "      <td>85.964912</td>\n",
              "      <td>3.333333</td>\n",
              "    </tr>\n",
              "    <tr>\n",
              "      <th>5</th>\n",
              "      <td>8019</td>\n",
              "      <td>459</td>\n",
              "      <td>188</td>\n",
              "      <td>271</td>\n",
              "      <td>643</td>\n",
              "      <td>103</td>\n",
              "      <td>1435.066667</td>\n",
              "      <td>85.000000</td>\n",
              "      <td>7.633333</td>\n",
              "    </tr>\n",
              "    <tr>\n",
              "      <th>6</th>\n",
              "      <td>10</td>\n",
              "      <td>8</td>\n",
              "      <td>8</td>\n",
              "      <td>0</td>\n",
              "      <td>8</td>\n",
              "      <td>0</td>\n",
              "      <td>13.133333</td>\n",
              "      <td>100.000000</td>\n",
              "      <td>1.641667</td>\n",
              "    </tr>\n",
              "    <tr>\n",
              "      <th>7</th>\n",
              "      <td>995717</td>\n",
              "      <td>810191</td>\n",
              "      <td>219605</td>\n",
              "      <td>590586</td>\n",
              "      <td>826539</td>\n",
              "      <td>14677</td>\n",
              "      <td>305785.550000</td>\n",
              "      <td>99.794177</td>\n",
              "      <td>1.392434</td>\n",
              "    </tr>\n",
              "    <tr>\n",
              "      <th>8</th>\n",
              "      <td>697441</td>\n",
              "      <td>495671</td>\n",
              "      <td>132245</td>\n",
              "      <td>363426</td>\n",
              "      <td>599515</td>\n",
              "      <td>18633</td>\n",
              "      <td>424442.050000</td>\n",
              "      <td>85.330756</td>\n",
              "      <td>3.209513</td>\n",
              "    </tr>\n",
              "    <tr>\n",
              "      <th>9</th>\n",
              "      <td>1826</td>\n",
              "      <td>8250</td>\n",
              "      <td>5360</td>\n",
              "      <td>2890</td>\n",
              "      <td>8373</td>\n",
              "      <td>65</td>\n",
              "      <td>102.300000</td>\n",
              "      <td>99.301878</td>\n",
              "      <td>0.019086</td>\n",
              "    </tr>\n",
              "  </tbody>\n",
              "</table>\n",
              "</div>"
            ],
            "text/plain": [
              "   Incoming Attempts  Normal Term Seizures  Answered Calls  \\\n",
              "0                171                    51              19   \n",
              "1                  1                    44              31   \n",
              "2             456601                440591           97563   \n",
              "3                 41                    41              40   \n",
              "4                239                    49              11   \n",
              "5               8019                   459             188   \n",
              "6                 10                     8               8   \n",
              "7             995717                810191          219605   \n",
              "8             697441                495671          132245   \n",
              "9               1826                  8250            5360   \n",
              "\n",
              "   Normal Not Answer Calls  Outgoing Seizures  FEV Seizures  \\\n",
              "0                       32                 52             1   \n",
              "1                       13                 44             0   \n",
              "2                   343028             453573          3648   \n",
              "3                        1                 41             0   \n",
              "4                       38                 71            14   \n",
              "5                      271                643           103   \n",
              "6                        0                  8             0   \n",
              "7                   590586             826539         14677   \n",
              "8                   363426             599515         18633   \n",
              "9                     2890               8373            65   \n",
              "\n",
              "   Network Conversation Minutes         NER       ACD  \n",
              "0                     30.833333  100.000000  1.622807  \n",
              "1                      0.033333  100.000000  0.001075  \n",
              "2                 584245.166700   97.925432  5.988389  \n",
              "3                     14.533333  100.000000  0.363333  \n",
              "4                     36.666667   85.964912  3.333333  \n",
              "5                   1435.066667   85.000000  7.633333  \n",
              "6                     13.133333  100.000000  1.641667  \n",
              "7                 305785.550000   99.794177  1.392434  \n",
              "8                 424442.050000   85.330756  3.209513  \n",
              "9                    102.300000   99.301878  0.019086  "
            ]
          },
          "metadata": {
            "tags": []
          },
          "execution_count": 90
        }
      ]
    },
    {
      "metadata": {
        "id": "mrB4h2vi6ukD",
        "colab_type": "code",
        "colab": {
          "base_uri": "https://localhost:8080/",
          "height": 34
        },
        "outputId": "571edc9c-8c75-4b73-900b-44130f73b1e2"
      },
      "cell_type": "code",
      "source": [
        "data.shape"
      ],
      "execution_count": 91,
      "outputs": [
        {
          "output_type": "execute_result",
          "data": {
            "text/plain": [
              "(1678, 9)"
            ]
          },
          "metadata": {
            "tags": []
          },
          "execution_count": 91
        }
      ]
    },
    {
      "metadata": {
        "id": "IEvwLqRh5lMX",
        "colab_type": "code",
        "colab": {
          "base_uri": "https://localhost:8080/",
          "height": 364
        },
        "outputId": "812e0a12-e070-4102-c9ad-87fb31cf12bc"
      },
      "cell_type": "code",
      "source": [
        "data['ACD'].hist()"
      ],
      "execution_count": 20,
      "outputs": [
        {
          "output_type": "execute_result",
          "data": {
            "text/plain": [
              "<matplotlib.axes._subplots.AxesSubplot at 0x7f624c6097f0>"
            ]
          },
          "metadata": {
            "tags": []
          },
          "execution_count": 20
        },
        {
          "output_type": "display_data",
          "data": {
            "image/png": "[encoded data removed]",
            "text/plain": [
              "<Figure size 576x396 with 1 Axes>"
            ]
          },
          "metadata": {
            "tags": []
          }
        }
      ]
    },
    {
      "metadata": {
        "id": "s6ZkxIFZ6kG8",
        "colab_type": "code",
        "colab": {
          "base_uri": "https://localhost:8080/",
          "height": 778
        },
        "outputId": "a5fc9b35-f73d-4898-abce-d2ff6682fc5a"
      },
      "cell_type": "code",
      "source": [
        "sns.jointplot(\"ASR\", \"Network Conversation Minutes\", data=data, kind='reg')"
      ],
      "execution_count": 92,
      "outputs": [
        {
          "output_type": "error",
          "ename": "TypeError",
          "evalue": "ignored",
          "traceback": [
            "\u001b[0;31m---------------------------------------------------------------------------\u001b[0m",
            "\u001b[0;31mTypeError\u001b[0m                                 Traceback (most recent call last)",
            "\u001b[0;32m<ipython-input-92-4b0a5e5f5c96>\u001b[0m in \u001b[0;36m<module>\u001b[0;34m()\u001b[0m\n\u001b[0;32m----> 1\u001b[0;31m \u001b[0msns\u001b[0m\u001b[0;34m.\u001b[0m\u001b[0mjointplot\u001b[0m\u001b[0;34m(\u001b[0m\u001b[0;34m\"ASR\"\u001b[0m\u001b[0;34m,\u001b[0m \u001b[0;34m\"Network Conversation Minutes\"\u001b[0m\u001b[0;34m,\u001b[0m \u001b[0mdata\u001b[0m\u001b[0;34m=\u001b[0m\u001b[0mdata\u001b[0m\u001b[0;34m,\u001b[0m \u001b[0mkind\u001b[0m\u001b[0;34m=\u001b[0m\u001b[0;34m'reg'\u001b[0m\u001b[0;34m)\u001b[0m\u001b[0;34m\u001b[0m\u001b[0;34m\u001b[0m\u001b[0m\n\u001b[0m",
            "\u001b[0;32m/usr/local/lib/python3.6/dist-packages/seaborn/distributions.py\u001b[0m in \u001b[0;36mjointplot\u001b[0;34m(x, y, data, kind, stat_func, color, size, ratio, space, dropna, xlim, ylim, joint_kws, marginal_kws, annot_kws, **kwargs)\u001b[0m\n\u001b[1;32m    796\u001b[0m     grid = JointGrid(x, y, data, dropna=dropna,\n\u001b[1;32m    797\u001b[0m                      \u001b[0msize\u001b[0m\u001b[0;34m=\u001b[0m\u001b[0msize\u001b[0m\u001b[0;34m,\u001b[0m \u001b[0mratio\u001b[0m\u001b[0;34m=\u001b[0m\u001b[0mratio\u001b[0m\u001b[0;34m,\u001b[0m \u001b[0mspace\u001b[0m\u001b[0;34m=\u001b[0m\u001b[0mspace\u001b[0m\u001b[0;34m,\u001b[0m\u001b[0;34m\u001b[0m\u001b[0;34m\u001b[0m\u001b[0m\n\u001b[0;32m--> 798\u001b[0;31m                      xlim=xlim, ylim=ylim)\n\u001b[0m\u001b[1;32m    799\u001b[0m \u001b[0;34m\u001b[0m\u001b[0m\n\u001b[1;32m    800\u001b[0m     \u001b[0;31m# Plot the data using the grid\u001b[0m\u001b[0;34m\u001b[0m\u001b[0;34m\u001b[0m\u001b[0;34m\u001b[0m\u001b[0m\n",
            "\u001b[0;32m/usr/local/lib/python3.6/dist-packages/seaborn/axisgrid.py\u001b[0m in \u001b[0;36m__init__\u001b[0;34m(self, x, y, data, size, ratio, space, dropna, xlim, ylim)\u001b[0m\n\u001b[1;32m   1658\u001b[0m         \u001b[0;32mif\u001b[0m \u001b[0mdropna\u001b[0m\u001b[0;34m:\u001b[0m\u001b[0;34m\u001b[0m\u001b[0;34m\u001b[0m\u001b[0m\n\u001b[1;32m   1659\u001b[0m             \u001b[0mnot_na\u001b[0m \u001b[0;34m=\u001b[0m \u001b[0mpd\u001b[0m\u001b[0;34m.\u001b[0m\u001b[0mnotnull\u001b[0m\u001b[0;34m(\u001b[0m\u001b[0mx\u001b[0m\u001b[0;34m)\u001b[0m \u001b[0;34m&\u001b[0m \u001b[0mpd\u001b[0m\u001b[0;34m.\u001b[0m\u001b[0mnotnull\u001b[0m\u001b[0;34m(\u001b[0m\u001b[0my\u001b[0m\u001b[0;34m)\u001b[0m\u001b[0;34m\u001b[0m\u001b[0;34m\u001b[0m\u001b[0m\n\u001b[0;32m-> 1660\u001b[0;31m             \u001b[0mx\u001b[0m \u001b[0;34m=\u001b[0m \u001b[0mx\u001b[0m\u001b[0;34m[\u001b[0m\u001b[0mnot_na\u001b[0m\u001b[0;34m]\u001b[0m\u001b[0;34m\u001b[0m\u001b[0;34m\u001b[0m\u001b[0m\n\u001b[0m\u001b[1;32m   1661\u001b[0m             \u001b[0my\u001b[0m \u001b[0;34m=\u001b[0m \u001b[0my\u001b[0m\u001b[0;34m[\u001b[0m\u001b[0mnot_na\u001b[0m\u001b[0;34m]\u001b[0m\u001b[0;34m\u001b[0m\u001b[0;34m\u001b[0m\u001b[0m\n\u001b[1;32m   1662\u001b[0m \u001b[0;34m\u001b[0m\u001b[0m\n",
            "\u001b[0;31mTypeError\u001b[0m: string indices must be integers"
          ]
        },
        {
          "output_type": "display_data",
          "data": {
            "image/png": "[encoded data removed]",
            "text/plain": [
              "<Figure size 432x432 with 3 Axes>"
            ]
          },
          "metadata": {
            "tags": []
          }
        }
      ]
    },
    {
      "metadata": {
        "id": "yWJr-Ea9--LE",
        "colab_type": "code",
        "colab": {
          "base_uri": "https://localhost:8080/",
          "height": 106
        },
        "outputId": "ea047af4-e2c3-480f-99ff-ab180bd215d4"
      },
      "cell_type": "code",
      "source": [
        "from sklearn.preprocessing import StandardScaler\n",
        "scaler = StandardScaler().fit(data)\n",
        "data1 = scaler.transform(data)"
      ],
      "execution_count": 38,
      "outputs": [
        {
          "output_type": "stream",
          "text": [
            "/usr/local/lib/python3.6/dist-packages/sklearn/preprocessing/data.py:645: DataConversionWarning: Data with input dtype int64, float64 were all converted to float64 by StandardScaler.\n",
            "  return self.partial_fit(X, y)\n",
            "/usr/local/lib/python3.6/dist-packages/ipykernel_launcher.py:3: DataConversionWarning: Data with input dtype int64, float64 were all converted to float64 by StandardScaler.\n",
            "  This is separate from the ipykernel package so we can avoid doing imports until\n"
          ],
          "name": "stderr"
        }
      ]
    },
    {
      "metadata": {
        "id": "klCbBrdh_I96",
        "colab_type": "code",
        "colab": {
          "base_uri": "https://localhost:8080/",
          "height": 223
        },
        "outputId": "eac197fb-a09d-4fc7-d13e-ee70628c220a"
      },
      "cell_type": "code",
      "source": [
        "data = pd.DataFrame(data1)\n",
        "data.head()"
      ],
      "execution_count": 39,
      "outputs": [
        {
          "output_type": "execute_result",
          "data": {
            "text/html": [
              "<div>\n",
              "<style scoped>\n",
              "    .dataframe tbody tr th:only-of-type {\n",
              "        vertical-align: middle;\n",
              "    }\n",
              "\n",
              "    .dataframe tbody tr th {\n",
              "        vertical-align: top;\n",
              "    }\n",
              "\n",
              "    .dataframe thead th {\n",
              "        text-align: right;\n",
              "    }\n",
              "</style>\n",
              "<table border=\"1\" class=\"dataframe\">\n",
              "  <thead>\n",
              "    <tr style=\"text-align: right;\">\n",
              "      <th></th>\n",
              "      <th>0</th>\n",
              "      <th>1</th>\n",
              "      <th>2</th>\n",
              "      <th>3</th>\n",
              "      <th>4</th>\n",
              "      <th>5</th>\n",
              "      <th>6</th>\n",
              "      <th>7</th>\n",
              "      <th>8</th>\n",
              "    </tr>\n",
              "  </thead>\n",
              "  <tbody>\n",
              "    <tr>\n",
              "      <th>0</th>\n",
              "      <td>-0.097274</td>\n",
              "      <td>-0.104956</td>\n",
              "      <td>-0.110750</td>\n",
              "      <td>-0.096416</td>\n",
              "      <td>-0.089276</td>\n",
              "      <td>-0.104202</td>\n",
              "      <td>-0.094213</td>\n",
              "      <td>0.538661</td>\n",
              "      <td>-0.260589</td>\n",
              "    </tr>\n",
              "    <tr>\n",
              "      <th>1</th>\n",
              "      <td>-0.097284</td>\n",
              "      <td>-0.104957</td>\n",
              "      <td>-0.110748</td>\n",
              "      <td>-0.096419</td>\n",
              "      <td>-0.089276</td>\n",
              "      <td>-0.104203</td>\n",
              "      <td>-0.094214</td>\n",
              "      <td>0.538661</td>\n",
              "      <td>-0.626521</td>\n",
              "    </tr>\n",
              "    <tr>\n",
              "      <th>2</th>\n",
              "      <td>-0.069447</td>\n",
              "      <td>-0.063757</td>\n",
              "      <td>-0.089269</td>\n",
              "      <td>-0.043025</td>\n",
              "      <td>-0.061540</td>\n",
              "      <td>-0.100785</td>\n",
              "      <td>-0.061043</td>\n",
              "      <td>0.375909</td>\n",
              "      <td>0.724474</td>\n",
              "    </tr>\n",
              "    <tr>\n",
              "      <th>3</th>\n",
              "      <td>-0.097282</td>\n",
              "      <td>-0.104957</td>\n",
              "      <td>-0.110746</td>\n",
              "      <td>-0.096421</td>\n",
              "      <td>-0.089276</td>\n",
              "      <td>-0.104203</td>\n",
              "      <td>-0.094214</td>\n",
              "      <td>0.538661</td>\n",
              "      <td>-0.544780</td>\n",
              "    </tr>\n",
              "    <tr>\n",
              "      <th>4</th>\n",
              "      <td>-0.097270</td>\n",
              "      <td>-0.104956</td>\n",
              "      <td>-0.110752</td>\n",
              "      <td>-0.096415</td>\n",
              "      <td>-0.089274</td>\n",
              "      <td>-0.104190</td>\n",
              "      <td>-0.094212</td>\n",
              "      <td>-0.562401</td>\n",
              "      <td>0.125380</td>\n",
              "    </tr>\n",
              "  </tbody>\n",
              "</table>\n",
              "</div>"
            ],
            "text/plain": [
              "          0         1         2         3         4         5         6  \\\n",
              "0 -0.097274 -0.104956 -0.110750 -0.096416 -0.089276 -0.104202 -0.094213   \n",
              "1 -0.097284 -0.104957 -0.110748 -0.096419 -0.089276 -0.104203 -0.094214   \n",
              "2 -0.069447 -0.063757 -0.089269 -0.043025 -0.061540 -0.100785 -0.061043   \n",
              "3 -0.097282 -0.104957 -0.110746 -0.096421 -0.089276 -0.104203 -0.094214   \n",
              "4 -0.097270 -0.104956 -0.110752 -0.096415 -0.089274 -0.104190 -0.094212   \n",
              "\n",
              "          7         8  \n",
              "0  0.538661 -0.260589  \n",
              "1  0.538661 -0.626521  \n",
              "2  0.375909  0.724474  \n",
              "3  0.538661 -0.544780  \n",
              "4 -0.562401  0.125380  "
            ]
          },
          "metadata": {
            "tags": []
          },
          "execution_count": 39
        }
      ]
    },
    {
      "metadata": {
        "id": "gpkDm4Bj_3Rq",
        "colab_type": "code",
        "colab": {}
      },
      "cell_type": "code",
      "source": [
        "data.columns = ['Incoming Attempts',\t'Normal Term Seizures'\t,'Answered Calls','Normal Not Answer Calls',\t'Outgoing Seizures',\t'FEV Seizures',\t'Network Conversation Minutes',\t'NER',\t'ACD']"
      ],
      "execution_count": 0,
      "outputs": []
    },
    {
      "metadata": {
        "id": "lkD69bgm_tl-",
        "colab_type": "code",
        "colab": {
          "base_uri": "https://localhost:8080/",
          "height": 274
        },
        "outputId": "41d44020-9520-42e7-d904-3f0a2e5ebafb"
      },
      "cell_type": "code",
      "source": [
        "data.head()"
      ],
      "execution_count": 57,
      "outputs": [
        {
          "output_type": "execute_result",
          "data": {
            "text/html": [
              "<div>\n",
              "<style scoped>\n",
              "    .dataframe tbody tr th:only-of-type {\n",
              "        vertical-align: middle;\n",
              "    }\n",
              "\n",
              "    .dataframe tbody tr th {\n",
              "        vertical-align: top;\n",
              "    }\n",
              "\n",
              "    .dataframe thead th {\n",
              "        text-align: right;\n",
              "    }\n",
              "</style>\n",
              "<table border=\"1\" class=\"dataframe\">\n",
              "  <thead>\n",
              "    <tr style=\"text-align: right;\">\n",
              "      <th></th>\n",
              "      <th>Incoming Attempts</th>\n",
              "      <th>Normal Term Seizures</th>\n",
              "      <th>Answered Calls</th>\n",
              "      <th>Normal Not Answer Calls</th>\n",
              "      <th>Outgoing Seizures</th>\n",
              "      <th>FEV Seizures</th>\n",
              "      <th>Network Conversation Minutes</th>\n",
              "      <th>NER</th>\n",
              "      <th>ACD</th>\n",
              "    </tr>\n",
              "  </thead>\n",
              "  <tbody>\n",
              "    <tr>\n",
              "      <th>0</th>\n",
              "      <td>171</td>\n",
              "      <td>51</td>\n",
              "      <td>19</td>\n",
              "      <td>32</td>\n",
              "      <td>52</td>\n",
              "      <td>1</td>\n",
              "      <td>30.833333</td>\n",
              "      <td>100.000000</td>\n",
              "      <td>1.622807</td>\n",
              "    </tr>\n",
              "    <tr>\n",
              "      <th>1</th>\n",
              "      <td>1</td>\n",
              "      <td>44</td>\n",
              "      <td>31</td>\n",
              "      <td>13</td>\n",
              "      <td>44</td>\n",
              "      <td>0</td>\n",
              "      <td>0.033333</td>\n",
              "      <td>100.000000</td>\n",
              "      <td>0.001075</td>\n",
              "    </tr>\n",
              "    <tr>\n",
              "      <th>2</th>\n",
              "      <td>456601</td>\n",
              "      <td>440591</td>\n",
              "      <td>97563</td>\n",
              "      <td>343028</td>\n",
              "      <td>453573</td>\n",
              "      <td>3648</td>\n",
              "      <td>584245.166700</td>\n",
              "      <td>97.925432</td>\n",
              "      <td>5.988389</td>\n",
              "    </tr>\n",
              "    <tr>\n",
              "      <th>3</th>\n",
              "      <td>41</td>\n",
              "      <td>41</td>\n",
              "      <td>40</td>\n",
              "      <td>1</td>\n",
              "      <td>41</td>\n",
              "      <td>0</td>\n",
              "      <td>14.533333</td>\n",
              "      <td>100.000000</td>\n",
              "      <td>0.363333</td>\n",
              "    </tr>\n",
              "    <tr>\n",
              "      <th>4</th>\n",
              "      <td>239</td>\n",
              "      <td>49</td>\n",
              "      <td>11</td>\n",
              "      <td>38</td>\n",
              "      <td>71</td>\n",
              "      <td>14</td>\n",
              "      <td>36.666667</td>\n",
              "      <td>85.964912</td>\n",
              "      <td>3.333333</td>\n",
              "    </tr>\n",
              "  </tbody>\n",
              "</table>\n",
              "</div>"
            ],
            "text/plain": [
              "   Incoming Attempts  Normal Term Seizures  Answered Calls  \\\n",
              "0                171                    51              19   \n",
              "1                  1                    44              31   \n",
              "2             456601                440591           97563   \n",
              "3                 41                    41              40   \n",
              "4                239                    49              11   \n",
              "\n",
              "   Normal Not Answer Calls  Outgoing Seizures  FEV Seizures  \\\n",
              "0                       32                 52             1   \n",
              "1                       13                 44             0   \n",
              "2                   343028             453573          3648   \n",
              "3                        1                 41             0   \n",
              "4                       38                 71            14   \n",
              "\n",
              "   Network Conversation Minutes         NER       ACD  \n",
              "0                     30.833333  100.000000  1.622807  \n",
              "1                      0.033333  100.000000  0.001075  \n",
              "2                 584245.166700   97.925432  5.988389  \n",
              "3                     14.533333  100.000000  0.363333  \n",
              "4                     36.666667   85.964912  3.333333  "
            ]
          },
          "metadata": {
            "tags": []
          },
          "execution_count": 57
        }
      ]
    },
    {
      "metadata": {
        "id": "Xx_6eSTbBB0Z",
        "colab_type": "code",
        "colab": {}
      },
      "cell_type": "code",
      "source": [
        "feature_cols = ['Incoming Attempts',\t'Normal Term Seizures'\t,'Answered Calls','Normal Not Answer Calls',\t'Outgoing Seizures',\t'FEV Seizures',\t'Network Conversation Minutes',\t'NER']                # create a Python list of feature names\n",
        "X = data[feature_cols]     "
      ],
      "execution_count": 0,
      "outputs": []
    },
    {
      "metadata": {
        "id": "dRehQeDxBOe0",
        "colab_type": "code",
        "colab": {
          "base_uri": "https://localhost:8080/",
          "height": 51
        },
        "outputId": "cd93081f-47d1-42ff-a253-5e4e5526dcfc"
      },
      "cell_type": "code",
      "source": [
        "print(type(X))\n",
        "print(X.shape)"
      ],
      "execution_count": 59,
      "outputs": [
        {
          "output_type": "stream",
          "text": [
            "<class 'pandas.core.frame.DataFrame'>\n",
            "(1678, 8)\n"
          ],
          "name": "stdout"
        }
      ]
    },
    {
      "metadata": {
        "id": "0vG3scUcBQeg",
        "colab_type": "code",
        "colab": {
          "base_uri": "https://localhost:8080/",
          "height": 120
        },
        "outputId": "abb8204f-c713-4ed8-f189-44645da4d188"
      },
      "cell_type": "code",
      "source": [
        "y = data.ACD\n",
        "y.head()"
      ],
      "execution_count": 60,
      "outputs": [
        {
          "output_type": "execute_result",
          "data": {
            "text/plain": [
              "0    1.622807\n",
              "1    0.001075\n",
              "2    5.988389\n",
              "3    0.363333\n",
              "4    3.333333\n",
              "Name: ACD, dtype: float64"
            ]
          },
          "metadata": {
            "tags": []
          },
          "execution_count": 60
        }
      ]
    },
    {
      "metadata": {
        "id": "C_w-BiQLBatj",
        "colab_type": "code",
        "colab": {}
      },
      "cell_type": "code",
      "source": [
        "from sklearn.model_selection import train_test_split\n",
        "\n",
        "def split(X,y):\n",
        "    return train_test_split(X, y, test_size=0.20, random_state=1)"
      ],
      "execution_count": 0,
      "outputs": []
    },
    {
      "metadata": {
        "id": "gJyssbytB3au",
        "colab_type": "code",
        "colab": {
          "base_uri": "https://localhost:8080/",
          "height": 137
        },
        "outputId": "08166581-4d88-4f47-f2c4-e77f5ceefaea"
      },
      "cell_type": "code",
      "source": [
        "X_train, X_test, y_train, y_test=split(X,y)\n",
        "print('Train cases as below')\n",
        "print('X_train shape: ',X_train.shape)\n",
        "print('y_train shape: ',y_train.shape)\n",
        "print('\\nTest cases as below')\n",
        "print('X_test shape: ',X_test.shape)\n",
        "print('y_test shape: ',y_test.shape)"
      ],
      "execution_count": 62,
      "outputs": [
        {
          "output_type": "stream",
          "text": [
            "Train cases as below\n",
            "X_train shape:  (1342, 8)\n",
            "y_train shape:  (1342,)\n",
            "\n",
            "Test cases as below\n",
            "X_test shape:  (336, 8)\n",
            "y_test shape:  (336,)\n"
          ],
          "name": "stdout"
        }
      ]
    },
    {
      "metadata": {
        "id": "LXB57ZytB281",
        "colab_type": "code",
        "colab": {
          "base_uri": "https://localhost:8080/",
          "height": 71
        },
        "outputId": "efaad4bc-d754-4a63-f442-061f0f4b3e9a"
      },
      "cell_type": "code",
      "source": [
        "from sklearn.linear_model import LinearRegression\n",
        "import numpy as np\n",
        "from sklearn import metrics\n",
        "from sklearn import linear_model\n",
        "\n",
        "#model 1\n",
        "\n",
        "linreg = LinearRegression()\n",
        "linreg.fit(X_train, y_train) \n",
        "y_pred_test = linreg.predict(X_test)\n",
        "\n",
        "#Accuracy \n",
        "RMSE_test = np.sqrt(metrics.mean_squared_error(y_test, y_pred_test))\n"
      ],
      "execution_count": 84,
      "outputs": [
        {
          "output_type": "stream",
          "text": [
            "/usr/local/lib/python3.6/dist-packages/sklearn/linear_model/coordinate_descent.py:492: ConvergenceWarning: Objective did not converge. You might want to increase the number of iterations. Fitting data with very small alpha may cause precision problems.\n",
            "  ConvergenceWarning)\n"
          ],
          "name": "stderr"
        }
      ]
    },
    {
      "metadata": {
        "id": "T4TDroFMCRG7",
        "colab_type": "code",
        "colab": {
          "base_uri": "https://localhost:8080/",
          "height": 34
        },
        "outputId": "e63e8802-6c5f-46d2-cbad-c3b693fc3ef9"
      },
      "cell_type": "code",
      "source": [
        "RMSE_test"
      ],
      "execution_count": 65,
      "outputs": [
        {
          "output_type": "execute_result",
          "data": {
            "text/plain": [
              "5.715362557070877"
            ]
          },
          "metadata": {
            "tags": []
          },
          "execution_count": 65
        }
      ]
    },
    {
      "metadata": {
        "id": "UEbCoilkXaZM",
        "colab_type": "code",
        "colab": {
          "base_uri": "https://localhost:8080/",
          "height": 34
        },
        "outputId": "9bf8416e-d708-49b0-edd1-e1829130f6f3"
      },
      "cell_type": "code",
      "source": [
        "RMSE_test = np.sqrt(metrics.mean_squared_error(y_test, y_pred_test2))\n",
        "RMSE_test"
      ],
      "execution_count": 86,
      "outputs": [
        {
          "output_type": "execute_result",
          "data": {
            "text/plain": [
              "5.713684628268936"
            ]
          },
          "metadata": {
            "tags": []
          },
          "execution_count": 86
        }
      ]
    },
    {
      "metadata": {
        "id": "i396_GG3S3lf",
        "colab_type": "code",
        "colab": {
          "base_uri": "https://localhost:8080/",
          "height": 68
        },
        "outputId": "2cdeb9a6-25f3-414d-b448-d29634e03a6e"
      },
      "cell_type": "code",
      "source": [
        "print('Intercept:',linreg.intercept_)                                           # print the intercept \n",
        "print('Coefficients:',linreg.coef_)"
      ],
      "execution_count": 68,
      "outputs": [
        {
          "output_type": "stream",
          "text": [
            "Intercept: 6.085222622400291\n",
            "Coefficients: [-1.30047731e-07 -4.49591253e-08 -1.28872310e-08 -3.20718598e-08\n",
            "  1.21359236e-07  1.11754918e-07  7.28087878e-08 -3.66992793e-02]\n"
          ],
          "name": "stdout"
        }
      ]
    },
    {
      "metadata": {
        "id": "s4ZUxqLuTTMb",
        "colab_type": "code",
        "colab": {}
      },
      "cell_type": "code",
      "source": [
        "feature_cols.insert(0,'Intercept')\n",
        "coef = linreg.coef_.tolist()\n",
        "coef.insert(0, linreg.intercept_)"
      ],
      "execution_count": 0,
      "outputs": []
    },
    {
      "metadata": {
        "id": "JiXXZPaUTVwb",
        "colab_type": "code",
        "colab": {
          "base_uri": "https://localhost:8080/",
          "height": 171
        },
        "outputId": "f9286b62-5ecd-4081-f4c9-16532fa471c5"
      },
      "cell_type": "code",
      "source": [
        "eq1 = zip(feature_cols, coef)\n",
        "\n",
        "for c1,c2 in eq1:\n",
        "    print(c1,c2)"
      ],
      "execution_count": 70,
      "outputs": [
        {
          "output_type": "stream",
          "text": [
            "Intercept 6.085222622400291\n",
            "Incoming Attempts -1.3004773149233706e-07\n",
            "Normal Term Seizures -4.4959125319873684e-08\n",
            "Answered Calls -1.2887230961922496e-08\n",
            "Normal Not Answer Calls -3.2071859795357885e-08\n",
            "Outgoing Seizures 1.2135923643759983e-07\n",
            "FEV Seizures 1.1175491756433211e-07\n",
            "Network Conversation Minutes 7.280878779950776e-08\n",
            "NER -0.03669927934627527\n"
          ],
          "name": "stdout"
        }
      ]
    },
    {
      "metadata": {
        "id": "cEu5ztOfTsZB",
        "colab_type": "code",
        "colab": {
          "base_uri": "https://localhost:8080/",
          "height": 234
        },
        "outputId": "03a65eac-d952-4093-c94f-3b651c400dab"
      },
      "cell_type": "code",
      "source": [
        "y_pred_test = linreg.predict(X_test)\n",
        "y_test\n",
        "\n",
        "df = pd.DataFrame(y_pred_test,y_test)\n",
        "df.columns = ['Actual']\n",
        "df.head()"
      ],
      "execution_count": 81,
      "outputs": [
        {
          "output_type": "execute_result",
          "data": {
            "text/html": [
              "<div>\n",
              "<style scoped>\n",
              "    .dataframe tbody tr th:only-of-type {\n",
              "        vertical-align: middle;\n",
              "    }\n",
              "\n",
              "    .dataframe tbody tr th {\n",
              "        vertical-align: top;\n",
              "    }\n",
              "\n",
              "    .dataframe thead th {\n",
              "        text-align: right;\n",
              "    }\n",
              "</style>\n",
              "<table border=\"1\" class=\"dataframe\">\n",
              "  <thead>\n",
              "    <tr style=\"text-align: right;\">\n",
              "      <th></th>\n",
              "      <th>Actual</th>\n",
              "    </tr>\n",
              "    <tr>\n",
              "      <th>ACD</th>\n",
              "      <th></th>\n",
              "    </tr>\n",
              "  </thead>\n",
              "  <tbody>\n",
              "    <tr>\n",
              "      <th>2.958984</th>\n",
              "      <td>2.415223</td>\n",
              "    </tr>\n",
              "    <tr>\n",
              "      <th>3.575000</th>\n",
              "      <td>2.415295</td>\n",
              "    </tr>\n",
              "    <tr>\n",
              "      <th>2.494444</th>\n",
              "      <td>3.520203</td>\n",
              "    </tr>\n",
              "    <tr>\n",
              "      <th>2.938059</th>\n",
              "      <td>2.904057</td>\n",
              "    </tr>\n",
              "    <tr>\n",
              "      <th>2.803664</th>\n",
              "      <td>2.530389</td>\n",
              "    </tr>\n",
              "  </tbody>\n",
              "</table>\n",
              "</div>"
            ],
            "text/plain": [
              "            Actual\n",
              "ACD               \n",
              "2.958984  2.415223\n",
              "3.575000  2.415295\n",
              "2.494444  3.520203\n",
              "2.938059  2.904057\n",
              "2.803664  2.530389"
            ]
          },
          "metadata": {
            "tags": []
          },
          "execution_count": 81
        }
      ]
    },
    {
      "metadata": {
        "id": "wjZlOIFJUadG",
        "colab_type": "code",
        "colab": {
          "base_uri": "https://localhost:8080/",
          "height": 34
        },
        "outputId": "1795f143-1ee8-479c-ac43-b3f75fa3663b"
      },
      "cell_type": "code",
      "source": [
        "linreg.predict(X[:1])"
      ],
      "execution_count": 83,
      "outputs": [
        {
          "output_type": "execute_result",
          "data": {
            "text/plain": [
              "array([2.41527755])"
            ]
          },
          "metadata": {
            "tags": []
          },
          "execution_count": 83
        }
      ]
    }
  ]
}